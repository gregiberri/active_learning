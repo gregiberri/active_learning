{
 "cells": [
  {
   "cell_type": "markdown",
   "id": "84ff091d",
   "metadata": {},
   "source": [
    "# Data analysis"
   ]
  },
  {
   "cell_type": "code",
   "execution_count": 1,
   "id": "2061203b",
   "metadata": {},
   "outputs": [
    {
     "name": "stdout",
     "output_type": "stream",
     "text": [
      "Previous working dir: /home/albert/PycharmProjects/active_learning/notebooks\n",
      "Current working dir: /home/albert/PycharmProjects/active_learning\n"
     ]
    }
   ],
   "source": [
    "import os\n",
    "import sys\n",
    "\n",
    "# set the working dir to the parent working dir\n",
    "current_working_dir = os.getcwd()\n",
    "print(f'Previous working dir: {current_working_dir}')\n",
    "new_working_dir = current_working_dir.replace('notebooks', '')\n",
    "os.chdir(new_working_dir)\n",
    "sys.path.insert(0, new_working_dir)\n",
    "print(f'Current working dir: {os.getcwd()}')"
   ]
  },
  {
   "cell_type": "markdown",
   "id": "c75ca2ad",
   "metadata": {},
   "source": [
    "## 1. Data Imbalance\n",
    "Check whether there is an inbalance in the class sizes (are there classes with way less or way more examples then the others).\n"
   ]
  },
  {
   "cell_type": "code",
   "execution_count": 14,
   "id": "5e61d34b",
   "metadata": {},
   "outputs": [
    {
     "data": {
      "image/png": "[encoded data removed]",
      "text/plain": [
       "<Figure size 720x360 with 1 Axes>"
      ]
     },
     "metadata": {
      "needs_background": "light"
     },
     "output_type": "display_data"
    }
   ],
   "source": [
    "# show the class sizes\n",
    "from data.data_parts import get_datapart\n",
    "import matplotlib.pyplot as plt\n",
    "import numpy as np\n",
    "from collections import Counter\n",
    "import csv\n",
    "import os\n",
    "import pickle\n",
    "\n",
    "data, data_files, labels = get_datapart('labelled', 'cifar-10-batches-py')\n",
    "\n",
    "with open(os.path.join('cifar-10-batches-py', 'batches.meta'), 'rb') as f:\n",
    "    class_num_to_name = pickle.load(f, encoding='bytes')[b'label_names']\n",
    "    class_num_to_name = [class_name.decode('ascii') for class_name in class_num_to_name]\n",
    "\n",
    "classnumbers = labels\n",
    "classnames = [class_num_to_name[classnumber] for classnumber in classnumbers]\n",
    "\n",
    "# # load the data and get the class names and sizes\n",
    "class_names = np.array(list(Counter(classnames).keys())) # equals to list(set(words))\n",
    "class_sizes = np.array(list(Counter(classnames).values())) # counts the elements' frequency\n",
    "class_sizes_mean = np.mean(class_sizes)\n",
    "\n",
    "# # sort the classes according to the class size\n",
    "sorting_indices = np.argsort(class_sizes)[:-2]\n",
    "class_sizes = class_sizes[sorting_indices]\n",
    "class_names = class_names[sorting_indices]\n",
    "\n",
    "# # plot\n",
    "fig = plt.figure(figsize=[10, 5])\n",
    "plt.bar(class_names, class_sizes)\n",
    "plt.axhline(class_sizes_mean, color=\"red\")\n",
    "plt.text(0, class_sizes_mean, f'mean: {class_sizes_mean:.3f}', va='bottom', ha=\"left\")\n",
    "plt.xticks(rotation=90)\n",
    "plt.title('Class sizes')\n",
    "plt.xlabel('Class')\n",
    "plt.ylabel('Number')\n",
    "for i in range(len(class_sizes)):\n",
    "    plt.annotate(str(class_sizes[i]), \n",
    "                 xy=(class_names[i],class_sizes[i]), \n",
    "                 ha='center', va='bottom')\n",
    "plt.show()"
   ]
  },
  {
   "cell_type": "code",
   "execution_count": null,
   "id": "4893e09a",
   "metadata": {},
   "outputs": [],
   "source": []
  }
 ],
 "metadata": {
  "kernelspec": {
   "display_name": "Python 3 (ipykernel)",
   "language": "python",
   "name": "python3"
  },
  "language_info": {
   "codemirror_mode": {
    "name": "ipython",
    "version": 3
   },
   "file_extension": ".py",
   "mimetype": "text/x-python",
   "name": "python",
   "nbconvert_exporter": "python",
   "pygments_lexer": "ipython3",
   "version": "3.8.5"
  }
 },
 "nbformat": 4,
 "nbformat_minor": 5
}
